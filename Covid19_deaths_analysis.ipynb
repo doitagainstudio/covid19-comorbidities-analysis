{
 "cells": [
  {
   "cell_type": "markdown",
   "id": "511f020f",
   "metadata": {},
   "source": [
    "# **COVID-19 CASUALTIES AND COMORBIDITIES** #\n",
    "# *A Machine Learning approach to define and evaluate a prediction model in the pandemic spread analysis*"
   ]
  },
  {
   "cell_type": "markdown",
   "id": "1013db8f",
   "metadata": {},
   "source": [
    "***A Jupyter Notebook by Cristiano Esposito ©2021***\n",
    "<br>***Release 1.0 - last update Apr. 21, 2021***"
   ]
  },
  {
   "cell_type": "markdown",
   "id": "03435f04",
   "metadata": {},
   "source": [
    "Import all the neeed libraries that will be later used to perform the analysis."
   ]
  },
  {
   "cell_type": "code",
   "execution_count": 1,
   "id": "f6f68c98",
   "metadata": {},
   "outputs": [],
   "source": [
    "import pandas as pd\n",
    "import numpy as np\n",
    "import matplotlib as plt\n",
    "import seaborn as sns\n",
    "import scipy.optimize as opt"
   ]
  },
  {
   "cell_type": "markdown",
   "id": "880bbedf",
   "metadata": {},
   "source": [
    "Now we'll import the main dataset (<a href='https://github.com/beoutbreakprepared/nCoV2019/tree/master/latest_data'>here</a> is the link to the nCoV2019 dataset.)"
   ]
  },
  {
   "cell_type": "code",
   "execution_count": 2,
   "id": "67631535",
   "metadata": {},
   "outputs": [],
   "source": [
    "data = pd.read_csv('./data/latestdata.csv', sep=',', low_memory=False)"
   ]
  },
  {
   "cell_type": "markdown",
   "id": "38591995",
   "metadata": {},
   "source": [
    "Let's give a look to our data:"
   ]
  },
  {
   "cell_type": "code",
   "execution_count": 3,
   "id": "5782ac7b",
   "metadata": {},
   "outputs": [
    {
     "data": {
      "text/html": [
       "<div>\n",
       "<style scoped>\n",
       "    .dataframe tbody tr th:only-of-type {\n",
       "        vertical-align: middle;\n",
       "    }\n",
       "\n",
       "    .dataframe tbody tr th {\n",
       "        vertical-align: top;\n",
       "    }\n",
       "\n",
       "    .dataframe thead th {\n",
       "        text-align: right;\n",
       "    }\n",
       "</style>\n",
       "<table border=\"1\" class=\"dataframe\">\n",
       "  <thead>\n",
       "    <tr style=\"text-align: right;\">\n",
       "      <th></th>\n",
       "      <th>ID</th>\n",
       "      <th>age</th>\n",
       "      <th>sex</th>\n",
       "      <th>city</th>\n",
       "      <th>province</th>\n",
       "      <th>country</th>\n",
       "      <th>latitude</th>\n",
       "      <th>longitude</th>\n",
       "      <th>geo_resolution</th>\n",
       "      <th>date_onset_symptoms</th>\n",
       "      <th>...</th>\n",
       "      <th>date_death_or_discharge</th>\n",
       "      <th>notes_for_discussion</th>\n",
       "      <th>location</th>\n",
       "      <th>admin3</th>\n",
       "      <th>admin2</th>\n",
       "      <th>admin1</th>\n",
       "      <th>country_new</th>\n",
       "      <th>admin_id</th>\n",
       "      <th>data_moderator_initials</th>\n",
       "      <th>travel_history_binary</th>\n",
       "    </tr>\n",
       "  </thead>\n",
       "  <tbody>\n",
       "    <tr>\n",
       "      <th>0</th>\n",
       "      <td>000-1-1</td>\n",
       "      <td>NaN</td>\n",
       "      <td>male</td>\n",
       "      <td>Shek Lei</td>\n",
       "      <td>Hong Kong</td>\n",
       "      <td>China</td>\n",
       "      <td>22.365019</td>\n",
       "      <td>114.133808</td>\n",
       "      <td>point</td>\n",
       "      <td>NaN</td>\n",
       "      <td>...</td>\n",
       "      <td>NaN</td>\n",
       "      <td>NaN</td>\n",
       "      <td>Shek Lei</td>\n",
       "      <td>NaN</td>\n",
       "      <td>NaN</td>\n",
       "      <td>Hong Kong</td>\n",
       "      <td>China</td>\n",
       "      <td>8029.0</td>\n",
       "      <td>NaN</td>\n",
       "      <td>NaN</td>\n",
       "    </tr>\n",
       "    <tr>\n",
       "      <th>1</th>\n",
       "      <td>000-1-10</td>\n",
       "      <td>78</td>\n",
       "      <td>male</td>\n",
       "      <td>Vo Euganeo</td>\n",
       "      <td>Veneto</td>\n",
       "      <td>Italy</td>\n",
       "      <td>45.297748</td>\n",
       "      <td>11.658382</td>\n",
       "      <td>point</td>\n",
       "      <td>NaN</td>\n",
       "      <td>...</td>\n",
       "      <td>22.02.2020</td>\n",
       "      <td>NaN</td>\n",
       "      <td>Vo' Euganeo</td>\n",
       "      <td>NaN</td>\n",
       "      <td>NaN</td>\n",
       "      <td>Veneto</td>\n",
       "      <td>Italy</td>\n",
       "      <td>8954.0</td>\n",
       "      <td>NaN</td>\n",
       "      <td>NaN</td>\n",
       "    </tr>\n",
       "    <tr>\n",
       "      <th>2</th>\n",
       "      <td>000-1-100</td>\n",
       "      <td>61</td>\n",
       "      <td>female</td>\n",
       "      <td>NaN</td>\n",
       "      <td>NaN</td>\n",
       "      <td>Singapore</td>\n",
       "      <td>1.353460</td>\n",
       "      <td>103.815100</td>\n",
       "      <td>admin0</td>\n",
       "      <td>NaN</td>\n",
       "      <td>...</td>\n",
       "      <td>17.02.2020</td>\n",
       "      <td>NaN</td>\n",
       "      <td>NaN</td>\n",
       "      <td>NaN</td>\n",
       "      <td>NaN</td>\n",
       "      <td>NaN</td>\n",
       "      <td>Singapore</td>\n",
       "      <td>200.0</td>\n",
       "      <td>NaN</td>\n",
       "      <td>NaN</td>\n",
       "    </tr>\n",
       "    <tr>\n",
       "      <th>3</th>\n",
       "      <td>000-1-1000</td>\n",
       "      <td>NaN</td>\n",
       "      <td>NaN</td>\n",
       "      <td>Zhengzhou City</td>\n",
       "      <td>Henan</td>\n",
       "      <td>China</td>\n",
       "      <td>34.629310</td>\n",
       "      <td>113.468000</td>\n",
       "      <td>admin2</td>\n",
       "      <td>NaN</td>\n",
       "      <td>...</td>\n",
       "      <td>NaN</td>\n",
       "      <td>NaN</td>\n",
       "      <td>NaN</td>\n",
       "      <td>NaN</td>\n",
       "      <td>Zhengzhou City</td>\n",
       "      <td>Henan</td>\n",
       "      <td>China</td>\n",
       "      <td>10091.0</td>\n",
       "      <td>NaN</td>\n",
       "      <td>NaN</td>\n",
       "    </tr>\n",
       "    <tr>\n",
       "      <th>4</th>\n",
       "      <td>000-1-10000</td>\n",
       "      <td>NaN</td>\n",
       "      <td>NaN</td>\n",
       "      <td>Pingxiang City</td>\n",
       "      <td>Jiangxi</td>\n",
       "      <td>China</td>\n",
       "      <td>27.513560</td>\n",
       "      <td>113.902900</td>\n",
       "      <td>admin2</td>\n",
       "      <td>NaN</td>\n",
       "      <td>...</td>\n",
       "      <td>NaN</td>\n",
       "      <td>NaN</td>\n",
       "      <td>NaN</td>\n",
       "      <td>NaN</td>\n",
       "      <td>Pingxiang City</td>\n",
       "      <td>Jiangxi</td>\n",
       "      <td>China</td>\n",
       "      <td>7060.0</td>\n",
       "      <td>NaN</td>\n",
       "      <td>NaN</td>\n",
       "    </tr>\n",
       "  </tbody>\n",
       "</table>\n",
       "<p>5 rows × 33 columns</p>\n",
       "</div>"
      ],
      "text/plain": [
       "            ID  age     sex            city   province    country   latitude  \\\n",
       "0      000-1-1  NaN    male        Shek Lei  Hong Kong      China  22.365019   \n",
       "1     000-1-10   78    male      Vo Euganeo     Veneto      Italy  45.297748   \n",
       "2    000-1-100   61  female             NaN        NaN  Singapore   1.353460   \n",
       "3   000-1-1000  NaN     NaN  Zhengzhou City      Henan      China  34.629310   \n",
       "4  000-1-10000  NaN     NaN  Pingxiang City    Jiangxi      China  27.513560   \n",
       "\n",
       "    longitude geo_resolution date_onset_symptoms  ... date_death_or_discharge  \\\n",
       "0  114.133808          point                 NaN  ...                     NaN   \n",
       "1   11.658382          point                 NaN  ...              22.02.2020   \n",
       "2  103.815100         admin0                 NaN  ...              17.02.2020   \n",
       "3  113.468000         admin2                 NaN  ...                     NaN   \n",
       "4  113.902900         admin2                 NaN  ...                     NaN   \n",
       "\n",
       "  notes_for_discussion     location admin3          admin2     admin1  \\\n",
       "0                  NaN     Shek Lei    NaN             NaN  Hong Kong   \n",
       "1                  NaN  Vo' Euganeo    NaN             NaN     Veneto   \n",
       "2                  NaN          NaN    NaN             NaN        NaN   \n",
       "3                  NaN          NaN    NaN  Zhengzhou City      Henan   \n",
       "4                  NaN          NaN    NaN  Pingxiang City    Jiangxi   \n",
       "\n",
       "  country_new admin_id  data_moderator_initials travel_history_binary  \n",
       "0       China   8029.0                      NaN                   NaN  \n",
       "1       Italy   8954.0                      NaN                   NaN  \n",
       "2   Singapore    200.0                      NaN                   NaN  \n",
       "3       China  10091.0                      NaN                   NaN  \n",
       "4       China   7060.0                      NaN                   NaN  \n",
       "\n",
       "[5 rows x 33 columns]"
      ]
     },
     "execution_count": 3,
     "metadata": {},
     "output_type": "execute_result"
    }
   ],
   "source": [
    "data.head()"
   ]
  },
  {
   "cell_type": "markdown",
   "id": "dde637db",
   "metadata": {},
   "source": [
    "As we can see, there are a lot of missing values in our dataset, hence we first need some wrangling and cleaning before it's possible to manipulate the values.<br>"
   ]
  },
  {
   "cell_type": "code",
   "execution_count": 4,
   "id": "e8b350f6",
   "metadata": {},
   "outputs": [
    {
     "data": {
      "text/plain": [
       "Index(['ID', 'age', 'sex', 'city', 'province', 'country', 'latitude',\n",
       "       'longitude', 'geo_resolution', 'date_onset_symptoms',\n",
       "       'date_admission_hospital', 'date_confirmation', 'symptoms',\n",
       "       'lives_in_Wuhan', 'travel_history_dates', 'travel_history_location',\n",
       "       'reported_market_exposure', 'additional_information',\n",
       "       'chronic_disease_binary', 'chronic_disease', 'source',\n",
       "       'sequence_available', 'outcome', 'date_death_or_discharge',\n",
       "       'notes_for_discussion', 'location', 'admin3', 'admin2', 'admin1',\n",
       "       'country_new', 'admin_id', 'data_moderator_initials',\n",
       "       'travel_history_binary'],\n",
       "      dtype='object')"
      ]
     },
     "execution_count": 4,
     "metadata": {},
     "output_type": "execute_result"
    }
   ],
   "source": [
    "data.columns"
   ]
  },
  {
   "cell_type": "markdown",
   "id": "a0fdd267",
   "metadata": {},
   "source": [
    "Ispectioning the dataframe, I've found out that some features are not necessary at this point so I can get rid of unwanted informations (better and further wrangling will be evaluated and applied in a later state). I'm going to keep only demographic and medical features, as well as the outcome of the hospitalization."
   ]
  },
  {
   "cell_type": "code",
   "execution_count": 5,
   "id": "c58955ea",
   "metadata": {},
   "outputs": [],
   "source": [
    "data = data[['age', 'sex', 'country', 'latitude', 'longitude', 'symptoms', 'additional_information','chronic_disease_binary', 'chronic_disease', 'outcome']]"
   ]
  },
  {
   "cell_type": "markdown",
   "id": "9cb8fd5c",
   "metadata": {},
   "source": [
    "<p>Let's see how big is our current dataframe"
   ]
  },
  {
   "cell_type": "code",
   "execution_count": 6,
   "id": "61add421",
   "metadata": {},
   "outputs": [
    {
     "data": {
      "text/plain": [
       "(2676311, 10)"
      ]
     },
     "execution_count": 6,
     "metadata": {},
     "output_type": "execute_result"
    }
   ],
   "source": [
    "data.shape"
   ]
  },
  {
   "cell_type": "markdown",
   "id": "3e93394c",
   "metadata": {},
   "source": [
    "<p>It looks like a huge amount of samples but we are going to reduce them by removing all empty informations"
   ]
  },
  {
   "cell_type": "code",
   "execution_count": 7,
   "id": "7b3d6230",
   "metadata": {},
   "outputs": [],
   "source": [
    "data.dropna(subset=['chronic_disease'], inplace=True)\n",
    "data.dropna(subset=['outcome'], inplace=True)"
   ]
  },
  {
   "cell_type": "code",
   "execution_count": 8,
   "id": "d152b5bc",
   "metadata": {},
   "outputs": [
    {
     "data": {
      "text/plain": [
       "(125, 10)"
      ]
     },
     "execution_count": 8,
     "metadata": {},
     "output_type": "execute_result"
    }
   ],
   "source": [
    "#checking the new dataframe size\n",
    "data.shape"
   ]
  },
  {
   "cell_type": "markdown",
   "id": "90a7b753",
   "metadata": {},
   "source": [
    "<p>So the cleaning stage provided a smaller dataset, further methods to keep as many samples as possible are currently understudy and we'll be applied in a further stage.<p>Since the model will be fit using pre-existing medical conditions at the time of hospitalization, I need to perform some filter on the 'chronic_disease' column to define new features:"
   ]
  },
  {
   "cell_type": "code",
   "execution_count": 9,
   "id": "336d8411",
   "metadata": {},
   "outputs": [
    {
     "data": {
      "text/plain": [
       "array(['Iran; Kuala Lumpur, Federal Territory of Kuala Lumpur, Malaysia',\n",
       "       'hypertension', 'COPD', 'diabetes, hypertension',\n",
       "       '\"thought to have had other pre-existing conditions\"',\n",
       "       'HIV positive',\n",
       "       'history of hypertension, type 2 diabetes, coronary heart disease for which a stent had been implanted, and lung cancer',\n",
       "       'prostate hypertrophy', 'hepatitis B, diabetes',\n",
       "       'hypertension, diabetes', 'chronic bronchitis', 'diabetes',\n",
       "       'coronary heart disease', 'diabetes, coronary heart disease',\n",
       "       'hypertension, coronary heart disease, diabetes, Tuberculosis',\n",
       "       'hypertension, chronic obstructive pulmonary disease, diabetes, chronic renal insufficiency',\n",
       "       'diabetes, cerebral infarction',\n",
       "       'hypertension, diabetes, coronary heart disease, frequent ventricular premature beat (FVPB), coronary artery stenting',\n",
       "       'hypertension, cerebral infarction, encephalomalacia',\n",
       "       'hypertension, hip replacement',\n",
       "       \"Parkinson's disease for five years, taking medicine of Madopar\",\n",
       "       \"hypertension for more than 20 years, diabetes for more than 20 years, Parkinson's disease\",\n",
       "       'hypertension, diabetes, colon cancer surgery four years ago',\n",
       "       'chronic bronchitis, stenocardia, hypertension, coronary stenting, hemorrhage of digestive tract',\n",
       "       'Chronic pulmonary condition', 'Diabetes', 'hypertension:diabetes',\n",
       "       'chronic kidney disease:hypertension:diabetes', 'asthma:diabetes',\n",
       "       'asthma', 'hypertension:diabetes:valvular heart disease',\n",
       "       'chronic kidney disease', 'hypertensive', 'Hypertension',\n",
       "       'diabetes:hypertension:chronic kidney disease',\n",
       "       'diabetes:hypertenstion:upper git bleeding',\n",
       "       'diabetes:hypertension', 'Chronic kidney disease:hypertension',\n",
       "       'Pre-renal azotemia:cardiomyopathy:hypertension:diabetes',\n",
       "       'hypertension:diabetes:asthma', 'hypertension:colon cancer',\n",
       "       'chronic kidney disease:hypertension:diabetes:ischemic heart disease',\n",
       "       'pre-renal azotemia:diabetes:hypertension',\n",
       "       'benign prostatic hyperplasia',\n",
       "       'hypertension:bronchial asthma:impaired fasting glucose',\n",
       "       'hypertension:diabetes:dislipidemia', 'hypertension:renal disease',\n",
       "       'hypertension:chronic kidney disease',\n",
       "       'asthma:hypertension:atherosclerosis:coronary artery disease',\n",
       "       'chronic obstructive pulmonary disease',\n",
       "       'hypertension:diabetes:chronic kidney disease',\n",
       "       'atrial fibrillation:hypertension:atherosclerosis:cerebrovascular infarct',\n",
       "       'hypertension:cardiac disease',\n",
       "       'hypertension:coronary artery disease:diabetes',\n",
       "       'hypertension:hypothyroidism',\n",
       "       'hypertension:diabetes:dyslipidemia',\n",
       "       'prostate cancer:chronic obstructive pulmonary disease',\n",
       "       'hypertension:hypothyroidism:renal disease',\n",
       "       'hypertension:diabetes:tongue cancer:cardiovascular disease:benign prostatic hypertrophy',\n",
       "       'diabetes:cardiac dysrhythmia',\n",
       "       'hypertension:diabetes:cardiac disease',\n",
       "       'hypertension; diabetes; asthma', 'hyperthyroidism',\n",
       "       'chronic obstructive pulmonary disease:diabetes:dyslipidemia',\n",
       "       'hypertension:cerebrovascular accident infarct', 'cardiac disease'],\n",
       "      dtype=object)"
      ]
     },
     "execution_count": 9,
     "metadata": {},
     "output_type": "execute_result"
    }
   ],
   "source": [
    "data.chronic_disease.unique()"
   ]
  },
  {
   "cell_type": "markdown",
   "id": "3b49b3bc",
   "metadata": {},
   "source": [
    "Looking at the values provided in the dataset, a custom filter algorithm has been deployed to better categorize each disease and define new columns where a disease is defined as present (int value of 1) or absent (int value of 0) for every sample in the dataframe"
   ]
  },
  {
   "cell_type": "code",
   "execution_count": 10,
   "id": "98acd3cc",
   "metadata": {},
   "outputs": [],
   "source": [
    "#diabetes\n",
    "data['diabetes'] = data.chronic_disease.str.contains(\"diabetes\").astype(int)\n",
    "#hypothyroidism\n",
    "data['hypothyroidism'] = data.chronic_disease.str.contains(\"hypothyroidism\").astype(int)\n",
    "#hyperthyroidism\n",
    "data['hyperthyroidism'] = data.chronic_disease.str.contains(\"hyperthyroidism\").astype(int)\n",
    "#cancer\n",
    "data['cancer'] = data.chronic_disease.str.contains(\"cancer\").astype(int)\n",
    "#Parkinson\n",
    "data['Parkinson'] = data.chronic_disease.str.contains(\"Parkinson\").astype(int)\n",
    "#asthma\n",
    "data['asthma'] = data.chronic_disease.str.contains(\"asthma\").astype(int)\n",
    "#HIV\n",
    "data['HIV_positive'] = data.chronic_disease.str.contains(\"HIV\").astype(int)\n",
    "#hepatits\n",
    "data['hepatitis'] = data.chronic_disease.str.contains(\"hepatitis\").astype(int)\n",
    "#hypertension\n",
    "data['hypertension'] = data.chronic_disease.str.contains(\"hypertension\").astype(int)\n",
    "#dyslipidemia\n",
    "data['dyslipidemia'] = data.chronic_disease.str.contains(\"dyslipidemia\").astype(int)\n",
    "#Tuberculosis\n",
    "data['Tuberculosis'] = data.chronic_disease.str.contains(\"Tuberculosis\").astype(int)\n",
    "#bronchitis\n",
    "data['bronchitis'] = data.chronic_disease.str.contains(\"bronchitis\").astype(int)\n",
    "#prostatic hypertrophy\n",
    "prostatic = ['prostatic hypertrophy', 'prostatic hyperplasia']\n",
    "data['prostiatic_hypertrophy']=data['chronic_disease'].str.contains('|'.join(prostatic)).astype(int)\n",
    "#COPD\n",
    "COPD = ['COPD', 'chronic obstructive pulmonary disease', 'pulmonary']\n",
    "data['COPD']=data['chronic_disease'].str.contains('|'.join(COPD)).astype(int)\n",
    "#kidney\n",
    "kidney = ['kidney', 'renal']\n",
    "data['kidney_disease']=data['chronic_disease'].str.contains('|'.join(kidney)).astype(int)\n",
    "#cardiac\n",
    "cardiac = ['cardiac', 'cardiomyopathy', 'cardiovascular', 'atherosclerosis', 'stenocardia', 'ventricular', 'atrial']\n",
    "data['cardiac_disease']=data['chronic_disease'].str.contains('|'.join(cardiac)).astype(int)\n",
    "#cerebral infarction\n",
    "cerebral = ['cerebral', 'cerebrovascular']\n",
    "data['cerebral_infarction']=data['chronic_disease'].str.contains('|'.join(cerebral)).astype(int)\n",
    "#coronary infarction\n",
    "coronary = ['coronary', 'artery']\n",
    "data['coronary_heart_disease']=data['chronic_disease'].str.contains('|'.join(coronary)).astype(int)\n",
    "#death outcome\n",
    "death = [\"death\", \"died\", \"dead\", \"deceased\"]\n",
    "data['death']=data['outcome'].str.contains('|'.join(death)).astype(int)"
   ]
  },
  {
   "cell_type": "markdown",
   "id": "0842a670",
   "metadata": {},
   "source": [
    "Now it's time to check and clean the \"age\" column for any unusable information:"
   ]
  },
  {
   "cell_type": "code",
   "execution_count": 11,
   "id": "0c996659",
   "metadata": {},
   "outputs": [
    {
     "data": {
      "text/plain": [
       "array(['68', '50-59', '94', '52', '44', nan, '66', '73', '60-69', '76',\n",
       "       '72', '79', '87', '58', '78', '65', '67', '82', '81', '48', '89',\n",
       "       '75', '80', '86', '84', '70', '62', '59', '57', '56', '69', '51',\n",
       "       '88', '64', '35', '54', '21', '61', '74', '34', '71', '46', '63',\n",
       "       '83', '50', '60', '77'], dtype=object)"
      ]
     },
     "execution_count": 11,
     "metadata": {},
     "output_type": "execute_result"
    }
   ],
   "source": [
    "data.age.unique()\n"
   ]
  },
  {
   "cell_type": "code",
   "execution_count": 12,
   "id": "af5b540c",
   "metadata": {},
   "outputs": [],
   "source": [
    "#let's remove empty fills and replace \"range values\" with \"mean values\"\n",
    "data.age.fillna(0, inplace=True)\n",
    "data['age'].replace('50-59', '55', inplace=True)\n",
    "data['age'].replace('60-69', '65', inplace=True)\n",
    "data['age'] = data ['age'].astype(int)"
   ]
  },
  {
   "cell_type": "code",
   "execution_count": 13,
   "id": "ab5b7d24",
   "metadata": {},
   "outputs": [
    {
     "data": {
      "text/plain": [
       "array([68, 55, 94, 52, 44,  0, 66, 73, 65, 76, 72, 79, 87, 58, 78, 67, 82,\n",
       "       81, 48, 89, 75, 80, 86, 84, 70, 62, 59, 57, 56, 69, 51, 88, 64, 35,\n",
       "       54, 21, 61, 74, 34, 71, 46, 63, 83, 50, 60, 77])"
      ]
     },
     "execution_count": 13,
     "metadata": {},
     "output_type": "execute_result"
    }
   ],
   "source": [
    "data['age'].unique()"
   ]
  },
  {
   "cell_type": "markdown",
   "id": "4b7afc8b",
   "metadata": {},
   "source": [
    "Then a normalization will be applied to the \"age\" column to keep values in range 0 to 1:"
   ]
  },
  {
   "cell_type": "code",
   "execution_count": 14,
   "id": "20b1b32e",
   "metadata": {},
   "outputs": [],
   "source": [
    "data['age_norm'] = (data['age'] - data['age'].mean())/data['age'].std()"
   ]
  },
  {
   "cell_type": "markdown",
   "id": "9bb5001b",
   "metadata": {},
   "source": [
    "Now all the wanted features have been defined so it's time to create a new dataframe with them:"
   ]
  },
  {
   "cell_type": "code",
   "execution_count": 15,
   "id": "2de0ae18",
   "metadata": {},
   "outputs": [],
   "source": [
    "data_map=data[['age_norm', 'diabetes', 'hypothyroidism', 'hyperthyroidism', 'cancer', 'Parkinson', 'asthma', 'HIV_positive', 'hepatitis', 'hypertension', 'dyslipidemia', 'Tuberculosis', 'bronchitis', 'prostiatic_hypertrophy', 'COPD', 'kidney_disease', 'cardiac_disease', 'cerebral_infarction', 'coronary_heart_disease', 'death']]"
   ]
  },
  {
   "cell_type": "markdown",
   "id": "5f95bb41",
   "metadata": {},
   "source": [
    "We can see the correlation between features in relation to the \"death\" outcome, and also plot a heatmap of the features:"
   ]
  },
  {
   "cell_type": "code",
   "execution_count": 16,
   "id": "b77bb84f",
   "metadata": {},
   "outputs": [
    {
     "data": {
      "text/html": [
       "<div>\n",
       "<style scoped>\n",
       "    .dataframe tbody tr th:only-of-type {\n",
       "        vertical-align: middle;\n",
       "    }\n",
       "\n",
       "    .dataframe tbody tr th {\n",
       "        vertical-align: top;\n",
       "    }\n",
       "\n",
       "    .dataframe thead th {\n",
       "        text-align: right;\n",
       "    }\n",
       "</style>\n",
       "<table border=\"1\" class=\"dataframe\">\n",
       "  <thead>\n",
       "    <tr style=\"text-align: right;\">\n",
       "      <th></th>\n",
       "      <th>death</th>\n",
       "    </tr>\n",
       "  </thead>\n",
       "  <tbody>\n",
       "    <tr>\n",
       "      <th>death</th>\n",
       "      <td>1.000000</td>\n",
       "    </tr>\n",
       "    <tr>\n",
       "      <th>age_norm</th>\n",
       "      <td>0.317109</td>\n",
       "    </tr>\n",
       "    <tr>\n",
       "      <th>diabetes</th>\n",
       "      <td>0.276217</td>\n",
       "    </tr>\n",
       "    <tr>\n",
       "      <th>hypertension</th>\n",
       "      <td>0.203019</td>\n",
       "    </tr>\n",
       "    <tr>\n",
       "      <th>kidney_disease</th>\n",
       "      <td>0.194764</td>\n",
       "    </tr>\n",
       "    <tr>\n",
       "      <th>cardiac_disease</th>\n",
       "      <td>0.147505</td>\n",
       "    </tr>\n",
       "    <tr>\n",
       "      <th>cerebral_infarction</th>\n",
       "      <td>0.086338</td>\n",
       "    </tr>\n",
       "    <tr>\n",
       "      <th>bronchitis</th>\n",
       "      <td>0.074464</td>\n",
       "    </tr>\n",
       "    <tr>\n",
       "      <th>hypothyroidism</th>\n",
       "      <td>0.060552</td>\n",
       "    </tr>\n",
       "    <tr>\n",
       "      <th>dyslipidemia</th>\n",
       "      <td>0.060552</td>\n",
       "    </tr>\n",
       "    <tr>\n",
       "      <th>prostiatic_hypertrophy</th>\n",
       "      <td>0.060552</td>\n",
       "    </tr>\n",
       "    <tr>\n",
       "      <th>hepatitis</th>\n",
       "      <td>0.060552</td>\n",
       "    </tr>\n",
       "    <tr>\n",
       "      <th>Parkinson</th>\n",
       "      <td>0.060552</td>\n",
       "    </tr>\n",
       "    <tr>\n",
       "      <th>hyperthyroidism</th>\n",
       "      <td>0.042644</td>\n",
       "    </tr>\n",
       "    <tr>\n",
       "      <th>Tuberculosis</th>\n",
       "      <td>0.042644</td>\n",
       "    </tr>\n",
       "    <tr>\n",
       "      <th>coronary_heart_disease</th>\n",
       "      <td>-0.027476</td>\n",
       "    </tr>\n",
       "    <tr>\n",
       "      <th>cancer</th>\n",
       "      <td>-0.086538</td>\n",
       "    </tr>\n",
       "    <tr>\n",
       "      <th>COPD</th>\n",
       "      <td>-0.128894</td>\n",
       "    </tr>\n",
       "    <tr>\n",
       "      <th>asthma</th>\n",
       "      <td>-0.128894</td>\n",
       "    </tr>\n",
       "    <tr>\n",
       "      <th>HIV_positive</th>\n",
       "      <td>-0.268534</td>\n",
       "    </tr>\n",
       "  </tbody>\n",
       "</table>\n",
       "</div>"
      ],
      "text/plain": [
       "                           death\n",
       "death                   1.000000\n",
       "age_norm                0.317109\n",
       "diabetes                0.276217\n",
       "hypertension            0.203019\n",
       "kidney_disease          0.194764\n",
       "cardiac_disease         0.147505\n",
       "cerebral_infarction     0.086338\n",
       "bronchitis              0.074464\n",
       "hypothyroidism          0.060552\n",
       "dyslipidemia            0.060552\n",
       "prostiatic_hypertrophy  0.060552\n",
       "hepatitis               0.060552\n",
       "Parkinson               0.060552\n",
       "hyperthyroidism         0.042644\n",
       "Tuberculosis            0.042644\n",
       "coronary_heart_disease -0.027476\n",
       "cancer                 -0.086538\n",
       "COPD                   -0.128894\n",
       "asthma                 -0.128894\n",
       "HIV_positive           -0.268534"
      ]
     },
     "execution_count": 16,
     "metadata": {},
     "output_type": "execute_result"
    }
   ],
   "source": [
    "data_map.corr()[['death']].sort_values(by='death', ascending=False)"
   ]
  },
  {
   "cell_type": "code",
   "execution_count": 17,
   "id": "64c437aa",
   "metadata": {},
   "outputs": [
    {
     "data": {
      "image/png": "[encoded data removed]",
      "text/plain": [
       "<Figure size 432x288 with 2 Axes>"
      ]
     },
     "metadata": {
      "needs_background": "light"
     },
     "output_type": "display_data"
    }
   ],
   "source": [
    "heatmap = sns.heatmap(data_map.corr()[['death']].sort_values(by='death', ascending=False), vmin=-1, vmax=1, annot=True)"
   ]
  },
  {
   "cell_type": "markdown",
   "id": "ceb50e59",
   "metadata": {},
   "source": [
    "As we can see, age and diabetes play a huge role in the fatal casualties resulting from the Covid-19 virus infection."
   ]
  },
  {
   "cell_type": "markdown",
   "id": "02bb9a2d",
   "metadata": {},
   "source": [
    "It's time now to create our machine learning model. Since it's a classification problem, I'm going to deal with it applying a classic logistic regression algorithm with regularization. I'll first define functions that i'm going to use (Sigmoid, Cost, Gradient, prediction) and our independent and dependent variables; then the optimal parameters will be computed and the accurancy of the model will be tested."
   ]
  },
  {
   "cell_type": "code",
   "execution_count": 18,
   "id": "b2e2a344",
   "metadata": {},
   "outputs": [],
   "source": [
    "# define Sigmoid function\n",
    "def sigmoid(z):\n",
    "    return 1 / (1 + np.exp(-z))\n",
    "\n",
    "# define Regularized Cost Function for Logistic Regression \n",
    "def lrcostFunctionReg(theta, X, y, lambda_t):\n",
    "    m = len(y)\n",
    "    h = sigmoid(np.dot(X, theta))\n",
    "    reg_term = (lambda_t / (2 * m)) * (np.dot(theta[1:].T, theta[1:]))\n",
    "    J = 1 / m * np.sum(-y * np.log(h) - (1 - y) * np.log(1 - h)) + reg_term\n",
    "    return J\n",
    "\n",
    "# define Gradient for Logistic Regression\n",
    "def gradient(theta, X, y, lambda_t):\n",
    "    m = len(y)\n",
    "    grad = (1 / m) * np.dot(X.T, (sigmoid(np.dot(X, theta))) - y)\n",
    "    grad[1:] = grad[1:] + (lambda_t / m) * theta[1:]\n",
    "    return grad\n",
    "\n",
    "# define prediction function\n",
    "def predict(theta, X):\n",
    "    h = sigmoid(np.dot(X, theta))\n",
    "    p = (h >= 0.5)\n",
    "    return p, h"
   ]
  },
  {
   "cell_type": "code",
   "execution_count": 19,
   "id": "4c76d02a",
   "metadata": {},
   "outputs": [],
   "source": [
    "X = data_map.iloc[:,:-1].values\n",
    "y = data_map.death.values.reshape(-1,1)\n",
    "(m, n) = np.shape(X)"
   ]
  },
  {
   "cell_type": "code",
   "execution_count": 20,
   "id": "c42d564f",
   "metadata": {},
   "outputs": [
    {
     "name": "stdout",
     "output_type": "stream",
     "text": [
      "Cost at initial theta (zeros):  [[0.69314718]]\n",
      "Gradient at initial theta (zeros) - first five values only: \n",
      " [[-0.12238242]\n",
      " [-0.2       ]\n",
      " [-0.008     ]\n",
      " [-0.004     ]\n",
      " [-0.008     ]]\n",
      "Cost at test theta:  [[0.78264958]]\n",
      "Gradient at test theta: \n",
      " [[0.05892236]\n",
      " [0.01552529]\n",
      " [0.03930204]\n",
      " [0.03606509]\n",
      " [0.05425908]]\n"
     ]
    }
   ],
   "source": [
    "# Compute cost with initial theta (zeros)\n",
    "initial_theta = np.zeros((n, 1))\n",
    "# Set regularization parameter Lambda\n",
    "lmbda = 5\n",
    "cost = lrcostFunctionReg(initial_theta, X, y, lmbda)\n",
    "grad = gradient(initial_theta, X, y, lmbda)\n",
    "print('Cost at initial theta (zeros): ', cost)\n",
    "print('Gradient at initial theta (zeros) - first five values only: \\n', grad[0:5])\n",
    "\n",
    "# Compute cost with non-zero test theta and lambda = 1\n",
    "test_theta = np.ones((n, 1))\n",
    "cost = lrcostFunctionReg(test_theta, X, y, lmbda)\n",
    "grad = gradient(test_theta, X, y, lmbda)\n",
    "print('Cost at test theta: ', cost)\n",
    "print('Gradient at test theta: \\n', grad[0:5])"
   ]
  },
  {
   "cell_type": "code",
   "execution_count": 21,
   "id": "568acc35",
   "metadata": {},
   "outputs": [
    {
     "name": "stdout",
     "output_type": "stream",
     "text": [
      "Optimal theta found: \n",
      " [ 0.47076499  1.00543567  0.07125633  0.11677551 -0.14722765  0.09222702\n",
      "  0.03073564 -0.04952293  0.1035387   0.86659981  0.06111038  0.01929541\n",
      "  0.19980425  0.08252638 -0.00122647  0.55960362  0.3690356   0.17912822\n",
      " -0.05159961]\n",
      "Cost for optimal theta is: \n",
      " [[0.45718005]]  with Lambda =  5\n"
     ]
    }
   ],
   "source": [
    "# Compute optimal theta using optimization function fmin_tnc\n",
    "# where func is our cost function and fprime is the gradient function\n",
    "result = opt.fmin_tnc(func=lrcostFunctionReg, fprime=gradient, x0=initial_theta, args=(X, y.flatten(), lmbda))\n",
    "theta = result[0]\n",
    "print('Optimal theta found: \\n', theta)\n",
    "theta_opt = theta.reshape(-1, 1)\n",
    "print('Cost for optimal theta is: \\n', lrcostFunctionReg(theta_opt, X, y, lmbda), ' with Lambda = ', lmbda)\n"
   ]
  },
  {
   "cell_type": "code",
   "execution_count": 22,
   "id": "4612c1aa",
   "metadata": {},
   "outputs": [
    {
     "name": "stdout",
     "output_type": "stream",
     "text": [
      "Train Accurancy:  83.2  with Lambda =  5\n"
     ]
    }
   ],
   "source": [
    "# Check for train accurancy\n",
    "p, h = predict(theta, X)\n",
    "print('Train Accurancy: ', np.mean((p == y.flatten()) * 100), ' with Lambda = ', lmbda)\n"
   ]
  },
  {
   "cell_type": "markdown",
   "id": "3ffe6611",
   "metadata": {},
   "source": [
    "With custom made algorithm, I've achieved an accurancy of 83.2 with a regularization feature of 5. "
   ]
  },
  {
   "cell_type": "markdown",
   "id": "c08d3d05",
   "metadata": {},
   "source": [
    "Now I'm gonna use the Scikit library Logistic Regression algorithm to deploy a model and see how it would perform and differ from my custom made algorithms."
   ]
  },
  {
   "cell_type": "markdown",
   "id": "7537f850",
   "metadata": {},
   "source": [
    "First I'm gonna import the needed Scikit libraries:"
   ]
  },
  {
   "cell_type": "code",
   "execution_count": 23,
   "id": "2eaa9a8f",
   "metadata": {},
   "outputs": [],
   "source": [
    "from sklearn.linear_model import LogisticRegression\n",
    "from sklearn.model_selection import train_test_split\n",
    "from sklearn.metrics import classification_report, confusion_matrix"
   ]
  },
  {
   "cell_type": "markdown",
   "id": "db67273c",
   "metadata": {},
   "source": [
    "Let's split the dataset in training and test data:"
   ]
  },
  {
   "cell_type": "code",
   "execution_count": 24,
   "id": "78e6a283",
   "metadata": {},
   "outputs": [],
   "source": [
    "X_train, X_test, y_train, y_test = train_test_split(X, y.flatten(), test_size=0.2, random_state=1)\n"
   ]
  },
  {
   "cell_type": "markdown",
   "id": "0f8ee8b8",
   "metadata": {},
   "source": [
    "and then create the model:"
   ]
  },
  {
   "cell_type": "code",
   "execution_count": 25,
   "id": "810d4716",
   "metadata": {},
   "outputs": [],
   "source": [
    "model = LogisticRegression(solver='liblinear', C=0.05,random_state=0).fit(X_train, y_train)\n"
   ]
  },
  {
   "cell_type": "markdown",
   "id": "edc69193",
   "metadata": {},
   "source": [
    "Now we evaluate the model:"
   ]
  },
  {
   "cell_type": "code",
   "execution_count": 26,
   "id": "d028dcbb",
   "metadata": {},
   "outputs": [
    {
     "data": {
      "text/plain": [
       "0.85"
      ]
     },
     "execution_count": 26,
     "metadata": {},
     "output_type": "execute_result"
    }
   ],
   "source": [
    "#score of the training set\n",
    "model.score(X_train, y_train)"
   ]
  },
  {
   "cell_type": "code",
   "execution_count": 27,
   "id": "cec96ddf",
   "metadata": {},
   "outputs": [
    {
     "data": {
      "text/plain": [
       "0.88"
      ]
     },
     "execution_count": 27,
     "metadata": {},
     "output_type": "execute_result"
    }
   ],
   "source": [
    "#score of the test set\n",
    "model.score(X_test, y_test)"
   ]
  },
  {
   "cell_type": "code",
   "execution_count": 28,
   "id": "af9da960",
   "metadata": {},
   "outputs": [],
   "source": [
    "#defining predictions using the test set\n",
    "y_pred = model.predict(X_test)"
   ]
  },
  {
   "cell_type": "code",
   "execution_count": 29,
   "id": "84d73488",
   "metadata": {},
   "outputs": [
    {
     "name": "stdout",
     "output_type": "stream",
     "text": [
      "              precision    recall  f1-score   support\n",
      "\n",
      "           0       1.00      0.25      0.40         4\n",
      "           1       0.88      1.00      0.93        21\n",
      "\n",
      "    accuracy                           0.88        25\n",
      "   macro avg       0.94      0.62      0.67        25\n",
      "weighted avg       0.90      0.88      0.85        25\n",
      "\n"
     ]
    }
   ],
   "source": [
    "#final evaluation report\n",
    "report = classification_report(y_test, y_pred)\n",
    "print(report)"
   ]
  },
  {
   "cell_type": "markdown",
   "id": "c4b36b7d",
   "metadata": {},
   "source": [
    "As we can see, with the Scikit algorithm we have achieved an accurancy of 0.88 which is slightly better than our previously found (0.83)."
   ]
  },
  {
   "cell_type": "markdown",
   "id": "166e410c",
   "metadata": {},
   "source": [
    "### Final considerations ###\n",
    "This has been my first attemp to apply Machine Learning to a real-world case scenario and could represent a good starting point for further development and implementations, despite the lack of sources represented by the few complete cases represented in the nCoV2019 dataset."
   ]
  },
  {
   "cell_type": "code",
   "execution_count": null,
   "id": "a78584d4",
   "metadata": {},
   "outputs": [],
   "source": []
  }
 ],
 "metadata": {
  "kernelspec": {
   "display_name": "Python 3",
   "language": "python",
   "name": "python3"
  },
  "language_info": {
   "codemirror_mode": {
    "name": "ipython",
    "version": 3
   },
   "file_extension": ".py",
   "mimetype": "text/x-python",
   "name": "python",
   "nbconvert_exporter": "python",
   "pygments_lexer": "ipython3",
   "version": "3.8.5"
  }
 },
 "nbformat": 4,
 "nbformat_minor": 5
}
